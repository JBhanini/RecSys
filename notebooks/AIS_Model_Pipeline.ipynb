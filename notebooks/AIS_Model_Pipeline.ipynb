{
  "nbformat": 4,
  "nbformat_minor": 0,
  "metadata": {
    "colab": {
      "name": "AIS_Model_Pipeline.ipynb",
      "provenance": [],
      "collapsed_sections": [
        "O-C_4VbRIljY",
        "wx6SxX65e2MF",
        "1bFnQisWpgLL",
        "PlBIw_gGrt5t"
      ],
      "toc_visible": true
    },
    "kernelspec": {
      "name": "python3",
      "display_name": "Python 3"
    }
  },
  "cells": [
    {
      "cell_type": "markdown",
      "metadata": {
        "id": "v5AVkmtSeWXd"
      },
      "source": [
        "# **Recommender Systems - Model Pipeline Assignment** - John Bhanini"
      ]
    },
    {
      "cell_type": "markdown",
      "metadata": {
        "id": "O-C_4VbRIljY"
      },
      "source": [
        "## Surprise Library"
      ]
    },
    {
      "cell_type": "code",
      "metadata": {
        "colab": {
          "base_uri": "https://localhost:8080/"
        },
        "id": "_G4kLWsoe-uN",
        "outputId": "a8364966-377c-44b5-b51f-580768af6a17"
      },
      "source": [
        "! pip install surprise"
      ],
      "execution_count": 1,
      "outputs": [
        {
          "output_type": "stream",
          "text": [
            "Collecting surprise\n",
            "  Downloading https://files.pythonhosted.org/packages/61/de/e5cba8682201fcf9c3719a6fdda95693468ed061945493dea2dd37c5618b/surprise-0.1-py2.py3-none-any.whl\n",
            "Collecting scikit-surprise\n",
            "\u001b[?25l  Downloading https://files.pythonhosted.org/packages/97/37/5d334adaf5ddd65da99fc65f6507e0e4599d092ba048f4302fe8775619e8/scikit-surprise-1.1.1.tar.gz (11.8MB)\n",
            "\u001b[K     |████████████████████████████████| 11.8MB 356kB/s \n",
            "\u001b[?25hRequirement already satisfied: joblib>=0.11 in /usr/local/lib/python3.6/dist-packages (from scikit-surprise->surprise) (1.0.0)\n",
            "Requirement already satisfied: numpy>=1.11.2 in /usr/local/lib/python3.6/dist-packages (from scikit-surprise->surprise) (1.19.5)\n",
            "Requirement already satisfied: scipy>=1.0.0 in /usr/local/lib/python3.6/dist-packages (from scikit-surprise->surprise) (1.4.1)\n",
            "Requirement already satisfied: six>=1.10.0 in /usr/local/lib/python3.6/dist-packages (from scikit-surprise->surprise) (1.15.0)\n",
            "Building wheels for collected packages: scikit-surprise\n",
            "  Building wheel for scikit-surprise (setup.py) ... \u001b[?25l\u001b[?25hdone\n",
            "  Created wheel for scikit-surprise: filename=scikit_surprise-1.1.1-cp36-cp36m-linux_x86_64.whl size=1618294 sha256=7937a595beef3c4e71ba96872614549b325b8646c98e5caaa43d907158177d77\n",
            "  Stored in directory: /root/.cache/pip/wheels/78/9c/3d/41b419c9d2aff5b6e2b4c0fc8d25c538202834058f9ed110d0\n",
            "Successfully built scikit-surprise\n",
            "Installing collected packages: scikit-surprise, surprise\n",
            "Successfully installed scikit-surprise-1.1.1 surprise-0.1\n"
          ],
          "name": "stdout"
        }
      ]
    },
    {
      "cell_type": "markdown",
      "metadata": {
        "id": "wx6SxX65e2MF"
      },
      "source": [
        "## Loading the Data:"
      ]
    },
    {
      "cell_type": "code",
      "metadata": {
        "id": "uWECraLWNolj"
      },
      "source": [
        "from surprise import Dataset\r\n",
        "from surprise import Reader\r\n",
        "\r\n",
        "reader = Reader(line_format='user item rating timestamp', sep=',', skip_lines=1)\r\n",
        "data = Dataset.load_from_file('/content/ratings.csv', reader)"
      ],
      "execution_count": 6,
      "outputs": []
    },
    {
      "cell_type": "markdown",
      "metadata": {
        "id": "9mT5JxlFUHD_"
      },
      "source": [
        "Split data in Train and Test set:"
      ]
    },
    {
      "cell_type": "code",
      "metadata": {
        "id": "4k8pbYApPJFi"
      },
      "source": [
        "from surprise.model_selection import train_test_split\r\n",
        "\r\n",
        "trainset, testset = train_test_split(data, test_size=.25)"
      ],
      "execution_count": 7,
      "outputs": []
    },
    {
      "cell_type": "markdown",
      "metadata": {
        "id": "1bFnQisWpgLL"
      },
      "source": [
        "## Training our Models:\r\n"
      ]
    },
    {
      "cell_type": "code",
      "metadata": {
        "id": "HuMbFAYwqEgD"
      },
      "source": [
        "from surprise.prediction_algorithms.knns import KNNBasic\r\n",
        "from surprise.prediction_algorithms.baseline_only import BaselineOnly"
      ],
      "execution_count": 25,
      "outputs": []
    },
    {
      "cell_type": "markdown",
      "metadata": {
        "id": "RamtUv5mURVh"
      },
      "source": [
        "Training a user-based model using cosine similarity:"
      ]
    },
    {
      "cell_type": "code",
      "metadata": {
        "id": "mgjxeUYhUXuA",
        "colab": {
          "base_uri": "https://localhost:8080/"
        },
        "outputId": "cc972a2b-7b4b-4fd1-8ba3-b4962586fa60"
      },
      "source": [
        "algo_cosine_user = KNNBasic(k=10,min_k=2,sim_options={'name':'cosine','user_based':True})\r\n",
        "algo_cosine_user.fit(trainset)"
      ],
      "execution_count": 15,
      "outputs": [
        {
          "output_type": "stream",
          "text": [
            "Computing the cosine similarity matrix...\n",
            "Done computing similarity matrix.\n"
          ],
          "name": "stdout"
        },
        {
          "output_type": "execute_result",
          "data": {
            "text/plain": [
              "<surprise.prediction_algorithms.knns.KNNBasic at 0x7f389efa7ef0>"
            ]
          },
          "metadata": {
            "tags": []
          },
          "execution_count": 15
        }
      ]
    },
    {
      "cell_type": "markdown",
      "metadata": {
        "id": "J9gN8FRWp7hU"
      },
      "source": [
        "Training a user-based Pearson correlation similarity:"
      ]
    },
    {
      "cell_type": "code",
      "metadata": {
        "colab": {
          "base_uri": "https://localhost:8080/"
        },
        "id": "q5UXOJPAqDJq",
        "outputId": "4b43a74a-4cb7-4193-9e8f-66cb8ba02c78"
      },
      "source": [
        "algo_pearson_user = KNNBasic(k=10,min_k=2,sim_options={'name':'pearson','user_based':True})\r\n",
        "algo_pearson_user.fit(trainset)"
      ],
      "execution_count": 16,
      "outputs": [
        {
          "output_type": "stream",
          "text": [
            "Computing the pearson similarity matrix...\n",
            "Done computing similarity matrix.\n"
          ],
          "name": "stdout"
        },
        {
          "output_type": "execute_result",
          "data": {
            "text/plain": [
              "<surprise.prediction_algorithms.knns.KNNBasic at 0x7f389efa79b0>"
            ]
          },
          "metadata": {
            "tags": []
          },
          "execution_count": 16
        }
      ]
    },
    {
      "cell_type": "markdown",
      "metadata": {
        "id": "1FLK3Oh9q16k"
      },
      "source": [
        "Training an item-based cosine similairy:"
      ]
    },
    {
      "cell_type": "code",
      "metadata": {
        "colab": {
          "base_uri": "https://localhost:8080/"
        },
        "id": "l-nxnMavrBPb",
        "outputId": "f918ec61-fa13-4788-d203-ed68625b62ee"
      },
      "source": [
        "algo_cosine_item = KNNBasic(k=10,min_k=2,sim_options={'name':'cosine','user_based':False})\r\n",
        "algo_cosine_item.fit(trainset)"
      ],
      "execution_count": 17,
      "outputs": [
        {
          "output_type": "stream",
          "text": [
            "Computing the cosine similarity matrix...\n",
            "Done computing similarity matrix.\n"
          ],
          "name": "stdout"
        },
        {
          "output_type": "execute_result",
          "data": {
            "text/plain": [
              "<surprise.prediction_algorithms.knns.KNNBasic at 0x7f389efa73c8>"
            ]
          },
          "metadata": {
            "tags": []
          },
          "execution_count": 17
        }
      ]
    },
    {
      "cell_type": "markdown",
      "metadata": {
        "id": "ZZfFRhcHrBYW"
      },
      "source": [
        "Training an item-based Pearson similarity:"
      ]
    },
    {
      "cell_type": "code",
      "metadata": {
        "colab": {
          "base_uri": "https://localhost:8080/"
        },
        "id": "_41jcDs4rBgN",
        "outputId": "93284efc-73c2-4b59-9a65-1666645c20ea"
      },
      "source": [
        "algo_pearson_item = KNNBasic(k=10,min_k=2,sim_options={'name':'pearson','user_based':False})\r\n",
        "algo_pearson_item.fit(trainset)"
      ],
      "execution_count": 18,
      "outputs": [
        {
          "output_type": "stream",
          "text": [
            "Computing the pearson similarity matrix...\n",
            "Done computing similarity matrix.\n"
          ],
          "name": "stdout"
        },
        {
          "output_type": "execute_result",
          "data": {
            "text/plain": [
              "<surprise.prediction_algorithms.knns.KNNBasic at 0x7f389efa7e80>"
            ]
          },
          "metadata": {
            "tags": []
          },
          "execution_count": 18
        }
      ]
    },
    {
      "cell_type": "markdown",
      "metadata": {
        "id": "bjDsjdE-xdV-"
      },
      "source": [
        "Training a Baseline-only model:"
      ]
    },
    {
      "cell_type": "code",
      "metadata": {
        "colab": {
          "base_uri": "https://localhost:8080/"
        },
        "id": "2gJPv9RJxkVk",
        "outputId": "3530d3d9-bb0b-47b2-ae12-b84b00c1d108"
      },
      "source": [
        "algo_baseline = BaselineOnly({'method': 'als', 'n_epochs': 5, 'reg_u': 12, 'reg_i': 5})\r\n",
        "algo_baseline.fit(trainset)"
      ],
      "execution_count": 26,
      "outputs": [
        {
          "output_type": "stream",
          "text": [
            "Estimating biases using als...\n"
          ],
          "name": "stdout"
        },
        {
          "output_type": "execute_result",
          "data": {
            "text/plain": [
              "<surprise.prediction_algorithms.baseline_only.BaselineOnly at 0x7f3892014400>"
            ]
          },
          "metadata": {
            "tags": []
          },
          "execution_count": 26
        }
      ]
    },
    {
      "cell_type": "markdown",
      "metadata": {
        "id": "PlBIw_gGrt5t"
      },
      "source": [
        "## Making predictions with our models:"
      ]
    },
    {
      "cell_type": "code",
      "metadata": {
        "id": "YzCFj2fhr19n"
      },
      "source": [
        "predict_cosine_user = algo_cosine_user.test(testset)\r\n",
        "predict_pearson_user = algo_pearson_user.test(testset)\r\n",
        "predict_cosine_item = algo_cosine_item.test(testset)\r\n",
        "predict_pearson_item = algo_pearson_item.test(testset)\r\n",
        "predict_baseline = algo_baseline.test(testset)"
      ],
      "execution_count": 29,
      "outputs": []
    },
    {
      "cell_type": "markdown",
      "metadata": {
        "id": "Xsf_IGN37GXu"
      },
      "source": [
        "## Cross Validation & Evaluation:"
      ]
    },
    {
      "cell_type": "code",
      "metadata": {
        "colab": {
          "base_uri": "https://localhost:8080/",
          "height": 680
        },
        "id": "9ceCaSTD1JJX",
        "outputId": "bedf6b34-7f1a-45ab-916d-7933b2ee6a72"
      },
      "source": [
        "from surprise.model_selection import cross_validate\r\n",
        "import pandas as pd\r\n",
        "benchmark = []\r\n",
        "models = [algo_cosine_user, algo_pearson_user, algo_cosine_item, algo_pearson_item, algo_baseline]\r\n",
        "\r\n",
        "for algorithm in models:\r\n",
        "    results = cross_validate(algorithm, data, measures=['RMSE', 'MAE'], cv=3, verbose=False)\r\n",
        "\r\n",
        "    tmp = pd.DataFrame.from_dict(results).mean(axis=0)\r\n",
        "    tmp = tmp.append(pd.Series([str(algorithm).split(' ')[0].split('.')[-2]], index=['Algorithm']))\r\n",
        "    benchmark.append(tmp)\r\n",
        "    \r\n",
        "pd.DataFrame(benchmark)"
      ],
      "execution_count": 76,
      "outputs": [
        {
          "output_type": "stream",
          "text": [
            "Computing the cosine similarity matrix...\n",
            "Done computing similarity matrix.\n",
            "Computing the cosine similarity matrix...\n",
            "Done computing similarity matrix.\n",
            "Computing the cosine similarity matrix...\n",
            "Done computing similarity matrix.\n",
            "Computing the pearson similarity matrix...\n",
            "Done computing similarity matrix.\n",
            "Computing the pearson similarity matrix...\n",
            "Done computing similarity matrix.\n",
            "Computing the pearson similarity matrix...\n",
            "Done computing similarity matrix.\n",
            "Computing the cosine similarity matrix...\n",
            "Done computing similarity matrix.\n",
            "Computing the cosine similarity matrix...\n",
            "Done computing similarity matrix.\n",
            "Computing the cosine similarity matrix...\n",
            "Done computing similarity matrix.\n",
            "Computing the pearson similarity matrix...\n",
            "Done computing similarity matrix.\n",
            "Computing the pearson similarity matrix...\n",
            "Done computing similarity matrix.\n",
            "Computing the pearson similarity matrix...\n",
            "Done computing similarity matrix.\n",
            "Estimating biases using als...\n",
            "Estimating biases using als...\n",
            "Estimating biases using als...\n"
          ],
          "name": "stdout"
        },
        {
          "output_type": "execute_result",
          "data": {
            "text/html": [
              "<div>\n",
              "<style scoped>\n",
              "    .dataframe tbody tr th:only-of-type {\n",
              "        vertical-align: middle;\n",
              "    }\n",
              "\n",
              "    .dataframe tbody tr th {\n",
              "        vertical-align: top;\n",
              "    }\n",
              "\n",
              "    .dataframe thead th {\n",
              "        text-align: right;\n",
              "    }\n",
              "</style>\n",
              "<table border=\"1\" class=\"dataframe\">\n",
              "  <thead>\n",
              "    <tr style=\"text-align: right;\">\n",
              "      <th></th>\n",
              "      <th>test_rmse</th>\n",
              "      <th>test_mae</th>\n",
              "      <th>fit_time</th>\n",
              "      <th>test_time</th>\n",
              "      <th>Algorithm</th>\n",
              "    </tr>\n",
              "  </thead>\n",
              "  <tbody>\n",
              "    <tr>\n",
              "      <th>0</th>\n",
              "      <td>0.989909</td>\n",
              "      <td>0.762214</td>\n",
              "      <td>0.292995</td>\n",
              "      <td>1.775704</td>\n",
              "      <td>knns</td>\n",
              "    </tr>\n",
              "    <tr>\n",
              "      <th>1</th>\n",
              "      <td>0.990829</td>\n",
              "      <td>0.768336</td>\n",
              "      <td>0.389982</td>\n",
              "      <td>1.775696</td>\n",
              "      <td>knns</td>\n",
              "    </tr>\n",
              "    <tr>\n",
              "      <th>2</th>\n",
              "      <td>1.019499</td>\n",
              "      <td>0.795460</td>\n",
              "      <td>13.152099</td>\n",
              "      <td>9.618462</td>\n",
              "      <td>knns</td>\n",
              "    </tr>\n",
              "    <tr>\n",
              "      <th>3</th>\n",
              "      <td>1.010495</td>\n",
              "      <td>0.784904</td>\n",
              "      <td>17.745786</td>\n",
              "      <td>10.303965</td>\n",
              "      <td>knns</td>\n",
              "    </tr>\n",
              "    <tr>\n",
              "      <th>4</th>\n",
              "      <td>0.871281</td>\n",
              "      <td>0.671071</td>\n",
              "      <td>0.147979</td>\n",
              "      <td>0.229361</td>\n",
              "      <td>baseline_only</td>\n",
              "    </tr>\n",
              "  </tbody>\n",
              "</table>\n",
              "</div>"
            ],
            "text/plain": [
              "   test_rmse  test_mae   fit_time  test_time      Algorithm\n",
              "0   0.989909  0.762214   0.292995   1.775704           knns\n",
              "1   0.990829  0.768336   0.389982   1.775696           knns\n",
              "2   1.019499  0.795460  13.152099   9.618462           knns\n",
              "3   1.010495  0.784904  17.745786  10.303965           knns\n",
              "4   0.871281  0.671071   0.147979   0.229361  baseline_only"
            ]
          },
          "metadata": {
            "tags": []
          },
          "execution_count": 76
        }
      ]
    },
    {
      "cell_type": "code",
      "metadata": {
        "colab": {
          "base_uri": "https://localhost:8080/",
          "height": 230
        },
        "id": "X4IroJbyGB3d",
        "outputId": "93b45404-ec58-4232-89d0-9a4b404f53be"
      },
      "source": [
        "evaluations = pd.DataFrame(benchmark).drop('Algorithm',1)\r\n",
        "evaluations['Model'] = ['Cosine User', 'Pearson User', 'Cosine Item', 'Pearson Item', 'Baseline ']\r\n",
        "evaluations.set_index('Model', drop=True, inplace=True)\r\n",
        "evaluations"
      ],
      "execution_count": 92,
      "outputs": [
        {
          "output_type": "execute_result",
          "data": {
            "text/html": [
              "<div>\n",
              "<style scoped>\n",
              "    .dataframe tbody tr th:only-of-type {\n",
              "        vertical-align: middle;\n",
              "    }\n",
              "\n",
              "    .dataframe tbody tr th {\n",
              "        vertical-align: top;\n",
              "    }\n",
              "\n",
              "    .dataframe thead th {\n",
              "        text-align: right;\n",
              "    }\n",
              "</style>\n",
              "<table border=\"1\" class=\"dataframe\">\n",
              "  <thead>\n",
              "    <tr style=\"text-align: right;\">\n",
              "      <th></th>\n",
              "      <th>test_rmse</th>\n",
              "      <th>test_mae</th>\n",
              "      <th>fit_time</th>\n",
              "      <th>test_time</th>\n",
              "    </tr>\n",
              "    <tr>\n",
              "      <th>Model</th>\n",
              "      <th></th>\n",
              "      <th></th>\n",
              "      <th></th>\n",
              "      <th></th>\n",
              "    </tr>\n",
              "  </thead>\n",
              "  <tbody>\n",
              "    <tr>\n",
              "      <th>Cosine User</th>\n",
              "      <td>0.989909</td>\n",
              "      <td>0.762214</td>\n",
              "      <td>0.292995</td>\n",
              "      <td>1.775704</td>\n",
              "    </tr>\n",
              "    <tr>\n",
              "      <th>Pearson User</th>\n",
              "      <td>0.990829</td>\n",
              "      <td>0.768336</td>\n",
              "      <td>0.389982</td>\n",
              "      <td>1.775696</td>\n",
              "    </tr>\n",
              "    <tr>\n",
              "      <th>Cosine Item</th>\n",
              "      <td>1.019499</td>\n",
              "      <td>0.795460</td>\n",
              "      <td>13.152099</td>\n",
              "      <td>9.618462</td>\n",
              "    </tr>\n",
              "    <tr>\n",
              "      <th>Pearson Item</th>\n",
              "      <td>1.010495</td>\n",
              "      <td>0.784904</td>\n",
              "      <td>17.745786</td>\n",
              "      <td>10.303965</td>\n",
              "    </tr>\n",
              "    <tr>\n",
              "      <th>Baseline</th>\n",
              "      <td>0.871281</td>\n",
              "      <td>0.671071</td>\n",
              "      <td>0.147979</td>\n",
              "      <td>0.229361</td>\n",
              "    </tr>\n",
              "  </tbody>\n",
              "</table>\n",
              "</div>"
            ],
            "text/plain": [
              "              test_rmse  test_mae   fit_time  test_time\n",
              "Model                                                  \n",
              "Cosine User    0.989909  0.762214   0.292995   1.775704\n",
              "Pearson User   0.990829  0.768336   0.389982   1.775696\n",
              "Cosine Item    1.019499  0.795460  13.152099   9.618462\n",
              "Pearson Item   1.010495  0.784904  17.745786  10.303965\n",
              "Baseline       0.871281  0.671071   0.147979   0.229361"
            ]
          },
          "metadata": {
            "tags": []
          },
          "execution_count": 92
        }
      ]
    },
    {
      "cell_type": "code",
      "metadata": {
        "colab": {
          "base_uri": "https://localhost:8080/",
          "height": 352
        },
        "id": "HZz_GqZFIXtl",
        "outputId": "d4a154d3-ea1d-4208-859d-95855b0420e9"
      },
      "source": [
        "import matplotlib.pyplot as plt\r\n",
        "evaluations.plot.bar()"
      ],
      "execution_count": 93,
      "outputs": [
        {
          "output_type": "execute_result",
          "data": {
            "text/plain": [
              "<matplotlib.axes._subplots.AxesSubplot at 0x7f3899f7b748>"
            ]
          },
          "metadata": {
            "tags": []
          },
          "execution_count": 93
        },
        {
          "output_type": "display_data",
          "data": {
            "image/png": "[encoded data removed]",
            "text/plain": [
              "<Figure size 432x288 with 1 Axes>"
            ]
          },
          "metadata": {
            "tags": [],
            "needs_background": "light"
          }
        }
      ]
    }
  ]
}